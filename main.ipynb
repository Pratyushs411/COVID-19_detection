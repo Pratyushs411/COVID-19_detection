{
 "cells": [
  {
   "cell_type": "markdown",
   "metadata": {},
   "source": [
    "# main"
   ]
  },
  {
   "cell_type": "code",
   "execution_count": 1,
   "metadata": {},
   "outputs": [
    {
     "name": "stdout",
     "output_type": "stream",
     "text": [
      "Using PyTorch version 2.5.1\n"
     ]
    }
   ],
   "source": [
    "import os\n",
    "import shutil\n",
    "import random\n",
    "import torch\n",
    "import torchvision\n",
    "import numpy as np\n",
    "\n",
    "from PIL import Image\n",
    "from matplotlib import pyplot as plt\n",
    "\n",
    "torch.manual_seed(0)\n",
    "\n",
    "print('Using PyTorch version', torch.__version__)"
   ]
  },
  {
   "cell_type": "code",
   "execution_count": 2,
   "metadata": {},
   "outputs": [
    {
     "ename": "FileExistsError",
     "evalue": "[Errno 17] File exists: 'COVID-19_Radiography_Dataset/test'",
     "output_type": "error",
     "traceback": [
      "\u001b[0;31m---------------------------------------------------------------------------\u001b[0m",
      "\u001b[0;31mFileExistsError\u001b[0m                           Traceback (most recent call last)",
      "Cell \u001b[0;32mIn[2], line 6\u001b[0m\n\u001b[1;32m      3\u001b[0m source_dirs \u001b[38;5;241m=\u001b[39m [\u001b[38;5;124m'\u001b[39m\u001b[38;5;124mNormal\u001b[39m\u001b[38;5;124m'\u001b[39m, \u001b[38;5;124m'\u001b[39m\u001b[38;5;124mviral\u001b[39m\u001b[38;5;124m'\u001b[39m, \u001b[38;5;124m'\u001b[39m\u001b[38;5;124mCOVID\u001b[39m\u001b[38;5;124m'\u001b[39m]\n\u001b[1;32m      5\u001b[0m \u001b[38;5;28;01mif\u001b[39;00m os\u001b[38;5;241m.\u001b[39mpath\u001b[38;5;241m.\u001b[39misdir(os\u001b[38;5;241m.\u001b[39mpath\u001b[38;5;241m.\u001b[39mjoin(root_dir, source_dirs[\u001b[38;5;241m1\u001b[39m])):\n\u001b[0;32m----> 6\u001b[0m     os\u001b[38;5;241m.\u001b[39mmkdir(os\u001b[38;5;241m.\u001b[39mpath\u001b[38;5;241m.\u001b[39mjoin(root_dir, \u001b[38;5;124m'\u001b[39m\u001b[38;5;124mtest\u001b[39m\u001b[38;5;124m'\u001b[39m))\n\u001b[1;32m      8\u001b[0m     \u001b[38;5;66;03m# Rename the folders to class_names\u001b[39;00m\n\u001b[1;32m      9\u001b[0m     \u001b[38;5;28;01mfor\u001b[39;00m i, d \u001b[38;5;129;01min\u001b[39;00m \u001b[38;5;28menumerate\u001b[39m(source_dirs):\n",
      "\u001b[0;31mFileExistsError\u001b[0m: [Errno 17] File exists: 'COVID-19_Radiography_Dataset/test'"
     ]
    }
   ],
   "source": [
    "class_names = ['normal', 'viral', 'covid']\n",
    "root_dir = 'COVID-19_Radiography_Dataset'\n",
    "source_dirs = ['Normal', 'viral', 'COVID']\n",
    "\n",
    "if os.path.isdir(os.path.join(root_dir, source_dirs[1])):\n",
    "    os.mkdir(os.path.join(root_dir, 'test'))\n",
    "\n",
    "    # Rename the folders to class_names\n",
    "    for i, d in enumerate(source_dirs):\n",
    "        os.rename(os.path.join(root_dir, d), os.path.join(root_dir, class_names[i]))\n",
    "\n",
    "    # Create subdirectories under 'test'\n",
    "    for c in class_names:\n",
    "        os.mkdir(os.path.join(root_dir, 'test', c))\n",
    "\n",
    "    # Sample from the 'images' subfolders and move to 'test'\n",
    "    for c in class_names:\n",
    "        # Specify the 'images' subfolder path\n",
    "        images_folder_path = os.path.join(root_dir, c, 'images')\n",
    "        \n",
    "        # List all PNG images in the 'images' subfolder\n",
    "        images = [x for x in os.listdir(images_folder_path) if x.lower().endswith('png')]\n",
    "        print(f\"Found {len(images)} images in {images_folder_path}\")\n",
    "\n",
    "        # Check if there are at least 30 images\n",
    "        if len(images) < 30:\n",
    "            print(f\"Not enough images in {c}, selecting all available images.\")\n",
    "            selected_images = images  # Select all available images\n",
    "        else:\n",
    "            selected_images = random.sample(images, 30)  # Sample 30 images\n",
    "\n",
    "        # Move selected images to the 'test' folder\n",
    "        for image in selected_images:\n",
    "            source_path = os.path.join(images_folder_path, image)\n",
    "            target_path = os.path.join(root_dir, 'test', c, image)\n",
    "            shutil.move(source_path, target_path)\n",
    "            print(f\"Moved {source_path} to {target_path}\")\n",
    "else:\n",
    "    print(f\"Directory does not exist: {os.path.join(root_dir, source_dirs[1])}\")"
   ]
  },
  {
   "cell_type": "code",
   "execution_count": 24,
   "metadata": {},
   "outputs": [],
   "source": [
    "class chestXRayDataset(torch.utils.data.Dataset):\n",
    "    def __init__(self,image_dirs,transform):\n",
    "        def get_images(class_name):\n",
    "            images_dir = os.path.join(image_dirs[class_name], \"images\")\n",
    "            if not os.path.exists(images_dir):\n",
    "               images_dir = image_dirs[class_name]  # Use the directory directly if 'images' doesn't exist\n",
    "            images = [os.path.join(images_dir, x) for x in os.listdir(images_dir) if x.lower().endswith('png')]\n",
    "            print(f'Found {len(images)} {class_name} examples')\n",
    "            return images\n",
    "        \n",
    "        self.images = {}\n",
    "        self.class_names = ['normal','viral','covid']\n",
    "\n",
    "        for c in self.class_names:\n",
    "            self.images[c] = get_images(c)\n",
    "\n",
    "        self.image_dirs = image_dirs\n",
    "        self.transform = transform\n",
    "\n",
    "    def __len__(self):\n",
    "        return sum([len(self.images[c]) for c in self.class_names])\n",
    "    \n",
    "    def __getitem__(self,index):\n",
    "        class_name =  random.choice(self.class_names)\n",
    "        index = index%len(self.images[class_name])\n",
    "        image_name = self.images[class_name][index]\n",
    "        image_path = os.path.join(self.image_dirs[class_name],image_name)\n",
    "        image = Image.open(image_path).convert('RGB')\n",
    "        return self.transform(image),self.class_names.index(class_name)\n",
    "\n"
   ]
  },
  {
   "cell_type": "markdown",
   "metadata": {},
   "source": [
    "# Image Transformation"
   ]
  },
  {
   "cell_type": "code",
   "execution_count": 25,
   "metadata": {},
   "outputs": [],
   "source": [
    "train_tranform = torchvision.transforms.Compose(\n",
    "    [\n",
    "        torchvision.transforms.Resize(size = (224,224)),\n",
    "        torchvision.transforms.RandomHorizontalFlip(),\n",
    "        torchvision.transforms.ToTensor(),\n",
    "        torchvision.transforms.Normalize(mean = [0.485,0.456,0.406],std = [0.229,0.224,0.225])\n",
    "    ]\n",
    ")"
   ]
  },
  {
   "cell_type": "code",
   "execution_count": 26,
   "metadata": {},
   "outputs": [],
   "source": [
    "test_tranform = torchvision.transforms.Compose(\n",
    "    [\n",
    "        torchvision.transforms.Resize(size = (224,224)),\n",
    "        torchvision.transforms.ToTensor(),\n",
    "        torchvision.transforms.Normalize(mean = [0.485,0.456,0.406],std = [0.229,0.224,0.225])\n",
    "    ]\n",
    ")"
   ]
  },
  {
   "cell_type": "markdown",
   "metadata": {},
   "source": [
    "# prepare data loaders"
   ]
  },
  {
   "cell_type": "code",
   "execution_count": 27,
   "metadata": {},
   "outputs": [
    {
     "name": "stdout",
     "output_type": "stream",
     "text": [
      "Found 10162 normal examples\n",
      "Found 1315 viral examples\n",
      "Found 3586 covid examples\n"
     ]
    }
   ],
   "source": [
    "train_dirs = {\n",
    "    'normal': 'COVID-19_Radiography_Dataset/normal',\n",
    "    'viral': 'COVID-19_Radiography_Dataset/viral',\n",
    "    'covid': 'COVID-19_Radiography_Dataset/covid'\n",
    "}\n",
    "\n",
    "train_dataset = chestXRayDataset(train_dirs,train_tranform)"
   ]
  },
  {
   "cell_type": "code",
   "execution_count": 17,
   "metadata": {},
   "outputs": [
    {
     "name": "stdout",
     "output_type": "stream",
     "text": [
      "Directory COVID-19_Radiography_Dataset/normal exists.\n",
      "Files: ['images', 'masks']\n",
      "Directory COVID-19_Radiography_Dataset/viral exists.\n",
      "Files: ['images', 'masks']\n",
      "Directory COVID-19_Radiography_Dataset/covid exists.\n",
      "Files: ['images', 'masks']\n"
     ]
    }
   ],
   "source": [
    "#for testing folders\n",
    "import os\n",
    "\n",
    "for class_name, dir_path in train_dirs.items():\n",
    "    if os.path.exists(dir_path):\n",
    "        print(f\"Directory {dir_path} exists.\")\n",
    "        print(f\"Files: {os.listdir(dir_path)[:5]}\")  # Show the first 5 files\n",
    "    else:\n",
    "        print(f\"Directory {dir_path} does not exist.\")\n"
   ]
  },
  {
   "cell_type": "code",
   "execution_count": 28,
   "metadata": {},
   "outputs": [
    {
     "name": "stdout",
     "output_type": "stream",
     "text": [
      "Found 30 normal examples\n",
      "Found 30 viral examples\n",
      "Found 30 covid examples\n"
     ]
    }
   ],
   "source": [
    "test_dirs = {\n",
    "    'normal': 'COVID-19_Radiography_Dataset/test/normal',\n",
    "    'viral': 'COVID-19_Radiography_Dataset/test/viral',\n",
    "    'covid': 'COVID-19_Radiography_Dataset/test/covid'\n",
    "}\n",
    "\n",
    "test_dataset = chestXRayDataset(test_dirs,test_tranform)"
   ]
  },
  {
   "cell_type": "code",
   "execution_count": null,
   "metadata": {},
   "outputs": [],
   "source": [
    "batch_size = 6\n",
    "dl_train = torch.utils.data.DataLoader(train_dataset,batch_size = batch_size,shuffle = True)\n",
    "dl_test = torch.utils.data.DataLoader(test_dataset,batch_size = batch_size,shuffle=True)\n",
    "print(len(dl_train))\n",
    "print(len(dl_test))"
   ]
  }
 ],
 "metadata": {
  "kernelspec": {
   "display_name": "base",
   "language": "python",
   "name": "python3"
  },
  "language_info": {
   "codemirror_mode": {
    "name": "ipython",
    "version": 3
   },
   "file_extension": ".py",
   "mimetype": "text/x-python",
   "name": "python",
   "nbconvert_exporter": "python",
   "pygments_lexer": "ipython3",
   "version": "3.11.7"
  }
 },
 "nbformat": 4,
 "nbformat_minor": 2
}
